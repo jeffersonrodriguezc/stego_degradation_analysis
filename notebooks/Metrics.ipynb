{
 "cells": [
  {
   "cell_type": "code",
   "execution_count": 1,
   "id": "b99ae2e1-9e1a-414d-aff8-0a80930e83e1",
   "metadata": {},
   "outputs": [],
   "source": [
    "import os\n",
    "import sys\n",
    "import cv2\n",
    "import numpy as np\n",
    "from pathlib import Path\n",
    "import matplotlib.pyplot as plt\n",
    "\n",
    "# Add the root folder to sys.path\n",
    "sys.path.append(os.path.abspath(os.path.join(os.getcwd(), \"..\")))"
   ]
  },
  {
   "cell_type": "code",
   "execution_count": 2,
   "id": "3fdd1771-14d2-4d52-8b1c-4d4fdf2ed619",
   "metadata": {},
   "outputs": [],
   "source": [
    "%load_ext autoreload\n",
    "%autoreload 2"
   ]
  },
  {
   "cell_type": "code",
   "execution_count": null,
   "id": "a4424b54-2c8b-4e5f-a048-d0f1b406a4e3",
   "metadata": {},
   "outputs": [],
   "source": [
    "hiding_summary = \n",
    "transformations_summary = \n",
    "revealing_summary = "
   ]
  },
  {
   "cell_type": "markdown",
   "id": "ccfae248-c593-4f5e-9b99-90f326ab5291",
   "metadata": {},
   "source": [
    "# 1. Steguz"
   ]
  },
  {
   "cell_type": "code",
   "execution_count": null,
   "id": "25640c6e-5da6-4e3c-8e41-ab4c2bbadcdc",
   "metadata": {},
   "outputs": [],
   "source": []
  }
 ],
 "metadata": {
  "kernelspec": {
   "display_name": "Python 3 (ipykernel)",
   "language": "python",
   "name": "python3"
  },
  "language_info": {
   "codemirror_mode": {
    "name": "ipython",
    "version": 3
   },
   "file_extension": ".py",
   "mimetype": "text/x-python",
   "name": "python",
   "nbconvert_exporter": "python",
   "pygments_lexer": "ipython3",
   "version": "3.11.0rc1"
  }
 },
 "nbformat": 4,
 "nbformat_minor": 5
}
